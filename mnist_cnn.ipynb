{
  "nbformat": 4,
  "nbformat_minor": 0,
  "metadata": {
    "colab": {
      "name": "mnist_cnn.ipynb",
      "provenance": [],
      "collapsed_sections": [],
      "authorship_tag": "ABX9TyMY309/34KaPEBBZrA/nTjj",
      "include_colab_link": true
    },
    "kernelspec": {
      "name": "python3",
      "display_name": "Python 3"
    }
  },
  "cells": [
    {
      "cell_type": "markdown",
      "metadata": {
        "id": "view-in-github",
        "colab_type": "text"
      },
      "source": [
        "<a href=\"https://colab.research.google.com/github/abhijithmahadev/mnist_cnn_cv/blob/master/mnist_cnn.ipynb\" target=\"_parent\"><img src=\"https://colab.research.google.com/assets/colab-badge.svg\" alt=\"Open In Colab\"/></a>"
      ]
    },
    {
      "cell_type": "code",
      "metadata": {
        "id": "Vuss3oUYV4E6",
        "colab_type": "code",
        "colab": {}
      },
      "source": [
        "# MNIST digit recognition using convolutiona neural networks\n",
        "# Importing the required libraries\n",
        "from keras.models import Sequential\n",
        "from keras.layers import Conv2D\n",
        "from keras.layers import MaxPooling2D\n",
        "from keras.layers import Flatten\n",
        "from keras.layers import Dense\n",
        "import tensorflow.keras.datasets.mnist as mnist\n",
        "from keras.utils import to_categorical\n",
        "import numpy as np"
      ],
      "execution_count": 58,
      "outputs": []
    },
    {
      "cell_type": "code",
      "metadata": {
        "id": "TlRVcaEs5WuM",
        "colab_type": "code",
        "colab": {}
      },
      "source": [
        "0# Building the deep learning model\n",
        "# This step involve two steps\n",
        "# Step 1 : Feature Extraction using convolution and pooling layers alternatively\n",
        "# Step 2 : Classification using a dense layer neural net layer\n",
        "\n",
        "# Feature Extraction using Convolution and Pooling layers\n",
        "model = Sequential()\n",
        "# Convolutional layer 1\n",
        "model.add(Conv2D(32, (5,5), \n",
        "                 strides = (1,1),\n",
        "                 input_shape = (28,28,1),\n",
        "                 activation = 'relu',\n",
        "                 ))\n",
        "# Pooling Layer 1\n",
        "model.add(MaxPooling2D((2,2)))\n",
        "# Convolutional layer 2\n",
        "model.add(Conv2D(64, (5,5),\n",
        "                 strides = (1,1),\n",
        "                 activation = 'relu',\n",
        "                 ))\n",
        "# Pooling layer 2\n",
        "model.add(MaxPooling2D((2,2)))\n",
        "\n",
        "# Classification using dense neural network\n",
        "model.add(Flatten())\n",
        "model.add(Dense(64, activation = 'relu'))\n",
        "model.add(Dense(10, activation ='softmax'))"
      ],
      "execution_count": 86,
      "outputs": []
    },
    {
      "cell_type": "code",
      "metadata": {
        "id": "LkL7MTeI8TpK",
        "colab_type": "code",
        "colab": {}
      },
      "source": [
        " # Partitioning the dataset into training set and test set\n",
        "(train_images, train_labels), (test_images, test_labels) = mnist.load_data()\n",
        "train_images = train_images.reshape((60000, 28,28,1))\n",
        "test_images  = test_images.reshape((10000,28,28,1))\n",
        "\n",
        "# Normalization of data\n",
        "train_images = (train_images / 255)\n",
        "test_images  = (test_images / 255)\n",
        "\n",
        "# One hot encoding of the labels\n",
        "train_labels = to_categorical(train_labels)\n",
        "test_labels  = to_categorical(test_labels)"
      ],
      "execution_count": 82,
      "outputs": []
    },
    {
      "cell_type": "code",
      "metadata": {
        "id": "-qsAxaHFDbb9",
        "colab_type": "code",
        "colab": {
          "base_uri": "https://localhost:8080/",
          "height": 208
        },
        "outputId": "b5ec45d1-554a-44d8-8d24-1682b733c319"
      },
      "source": [
        "# Training the neural network\n",
        "model.compile(\n",
        "    optimizer = 'adam',\n",
        "    loss = 'categorical_crossentropy',\n",
        "    metrics = ['accuracy'])\n",
        "\n",
        "model.fit(train_images,\n",
        "          train_labels,\n",
        "          batch_size = 16,\n",
        "          epochs = 5)"
      ],
      "execution_count": 83,
      "outputs": [
        {
          "output_type": "stream",
          "text": [
            "Epoch 1/5\n",
            "3750/3750 [==============================] - 65s 17ms/step - loss: 0.1108 - accuracy: 0.9659\n",
            "Epoch 2/5\n",
            "3750/3750 [==============================] - 65s 17ms/step - loss: 0.0413 - accuracy: 0.9869\n",
            "Epoch 3/5\n",
            "3750/3750 [==============================] - 64s 17ms/step - loss: 0.0275 - accuracy: 0.9917\n",
            "Epoch 4/5\n",
            "3750/3750 [==============================] - 65s 17ms/step - loss: 0.0203 - accuracy: 0.9934\n",
            "Epoch 5/5\n",
            "3750/3750 [==============================] - 64s 17ms/step - loss: 0.0161 - accuracy: 0.9951\n"
          ],
          "name": "stdout"
        },
        {
          "output_type": "execute_result",
          "data": {
            "text/plain": [
              "<tensorflow.python.keras.callbacks.History at 0x7f92bf706e80>"
            ]
          },
          "metadata": {
            "tags": []
          },
          "execution_count": 83
        }
      ]
    },
    {
      "cell_type": "code",
      "metadata": {
        "id": "DjB4yroVPH9h",
        "colab_type": "code",
        "colab": {
          "base_uri": "https://localhost:8080/",
          "height": 52
        },
        "outputId": "8e1ad04f-40f2-4817-e6ac-d0f7049c83f7"
      },
      "source": [
        "# Evaluating tghe model using the test set\n",
        "model.evaluate(test_images,\n",
        "               test_labels)"
      ],
      "execution_count": 84,
      "outputs": [
        {
          "output_type": "stream",
          "text": [
            "313/313 [==============================] - 3s 10ms/step - loss: 0.0324 - accuracy: 0.9913\n"
          ],
          "name": "stdout"
        },
        {
          "output_type": "execute_result",
          "data": {
            "text/plain": [
              "[0.03235446661710739, 0.9912999868392944]"
            ]
          },
          "metadata": {
            "tags": []
          },
          "execution_count": 84
        }
      ]
    },
    {
      "cell_type": "code",
      "metadata": {
        "id": "45lsxpBnUgVd",
        "colab_type": "code",
        "colab": {
          "base_uri": "https://localhost:8080/",
          "height": 34
        },
        "outputId": "cf673f6b-077f-4708-d1fe-c1f6f6fd9238"
      },
      "source": [
        "# Making predictions\n",
        "predictions = model.predict(test_images[:15])\n",
        "print(np.argmax(predictions,axis = 1))"
      ],
      "execution_count": 85,
      "outputs": [
        {
          "output_type": "stream",
          "text": [
            "[7 2 1 0 4 1 4 9 5 9 0 6 9 0 1]\n"
          ],
          "name": "stdout"
        }
      ]
    },
    {
      "cell_type": "code",
      "metadata": {
        "id": "xoxEe-J0XK2v",
        "colab_type": "code",
        "colab": {}
      },
      "source": [
        ""
      ],
      "execution_count": null,
      "outputs": []
    }
  ]
}